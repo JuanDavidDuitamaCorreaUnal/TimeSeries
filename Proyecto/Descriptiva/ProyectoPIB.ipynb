{
 "cells": [
  {
   "cell_type": "markdown",
   "id": "b6177e55-87ad-44d0-92e5-a8fb1134aa41",
   "metadata": {},
   "source": [
    "# Proyecto Series De Tiempo Univariadas\n",
    "Este script abarca el desarrollo de todas las temáticas vistas en el semestre 2024-1 sobre la medición trimestral del PIB, desde el año 2005 hasta el 2015?\n",
    "\n",
    "#### Integrantes: Anderson Guarín, Ander Cristancho, Juan Duitama"
   ]
  },
  {
   "cell_type": "code",
   "execution_count": 1,
   "id": "59bcfdc3-d0e5-4b94-bb89-263f6f02925a",
   "metadata": {},
   "outputs": [
    {
     "ename": "ValueError",
     "evalue": "Length mismatch: Expected axis has 1 elements, new values have 2 elements",
     "output_type": "error",
     "traceback": [
      "\u001b[1;31m---------------------------------------------------------------------------\u001b[0m",
      "\u001b[1;31mValueError\u001b[0m                                Traceback (most recent call last)",
      "Cell \u001b[1;32mIn[1], line 30\u001b[0m\n\u001b[0;32m     28\u001b[0m \u001b[38;5;66;03m# Cambiar los nombres de las columnas\u001b[39;00m\n\u001b[0;32m     29\u001b[0m nuevos_nombres \u001b[38;5;241m=\u001b[39m [\u001b[38;5;124m'\u001b[39m\u001b[38;5;124mAnioMes\u001b[39m\u001b[38;5;124m'\u001b[39m, \u001b[38;5;124m'\u001b[39m\u001b[38;5;124mPIB\u001b[39m\u001b[38;5;124m'\u001b[39m]\n\u001b[1;32m---> 30\u001b[0m Data\u001b[38;5;241m.\u001b[39mcolumns \u001b[38;5;241m=\u001b[39m nuevos_nombres\n\u001b[0;32m     31\u001b[0m Data\n\u001b[0;32m     33\u001b[0m Data[\u001b[38;5;124m'\u001b[39m\u001b[38;5;124mAnioMes\u001b[39m\u001b[38;5;124m'\u001b[39m]\u001b[38;5;241m=\u001b[39mpd\u001b[38;5;241m.\u001b[39mto_datetime(Data[\u001b[38;5;124m'\u001b[39m\u001b[38;5;124mAnioMes\u001b[39m\u001b[38;5;124m'\u001b[39m])\u001b[38;5;66;03m#Convirtiendo la columna año y mes a formato fecha\u001b[39;00m\n",
      "File \u001b[1;32m~\\anaconda3\\envs\\SeriesDeTiempo\\Lib\\site-packages\\pandas\\core\\generic.py:6310\u001b[0m, in \u001b[0;36mNDFrame.__setattr__\u001b[1;34m(self, name, value)\u001b[0m\n\u001b[0;32m   6308\u001b[0m \u001b[38;5;28;01mtry\u001b[39;00m:\n\u001b[0;32m   6309\u001b[0m     \u001b[38;5;28mobject\u001b[39m\u001b[38;5;241m.\u001b[39m\u001b[38;5;21m__getattribute__\u001b[39m(\u001b[38;5;28mself\u001b[39m, name)\n\u001b[1;32m-> 6310\u001b[0m     \u001b[38;5;28;01mreturn\u001b[39;00m \u001b[38;5;28mobject\u001b[39m\u001b[38;5;241m.\u001b[39m\u001b[38;5;21m__setattr__\u001b[39m(\u001b[38;5;28mself\u001b[39m, name, value)\n\u001b[0;32m   6311\u001b[0m \u001b[38;5;28;01mexcept\u001b[39;00m \u001b[38;5;167;01mAttributeError\u001b[39;00m:\n\u001b[0;32m   6312\u001b[0m     \u001b[38;5;28;01mpass\u001b[39;00m\n",
      "File \u001b[1;32mproperties.pyx:69\u001b[0m, in \u001b[0;36mpandas._libs.properties.AxisProperty.__set__\u001b[1;34m()\u001b[0m\n",
      "File \u001b[1;32m~\\anaconda3\\envs\\SeriesDeTiempo\\Lib\\site-packages\\pandas\\core\\generic.py:813\u001b[0m, in \u001b[0;36mNDFrame._set_axis\u001b[1;34m(self, axis, labels)\u001b[0m\n\u001b[0;32m    808\u001b[0m \u001b[38;5;250m\u001b[39m\u001b[38;5;124;03m\"\"\"\u001b[39;00m\n\u001b[0;32m    809\u001b[0m \u001b[38;5;124;03mThis is called from the cython code when we set the `index` attribute\u001b[39;00m\n\u001b[0;32m    810\u001b[0m \u001b[38;5;124;03mdirectly, e.g. `series.index = [1, 2, 3]`.\u001b[39;00m\n\u001b[0;32m    811\u001b[0m \u001b[38;5;124;03m\"\"\"\u001b[39;00m\n\u001b[0;32m    812\u001b[0m labels \u001b[38;5;241m=\u001b[39m ensure_index(labels)\n\u001b[1;32m--> 813\u001b[0m \u001b[38;5;28mself\u001b[39m\u001b[38;5;241m.\u001b[39m_mgr\u001b[38;5;241m.\u001b[39mset_axis(axis, labels)\n\u001b[0;32m    814\u001b[0m \u001b[38;5;28mself\u001b[39m\u001b[38;5;241m.\u001b[39m_clear_item_cache()\n",
      "File \u001b[1;32m~\\anaconda3\\envs\\SeriesDeTiempo\\Lib\\site-packages\\pandas\\core\\internals\\managers.py:238\u001b[0m, in \u001b[0;36mBaseBlockManager.set_axis\u001b[1;34m(self, axis, new_labels)\u001b[0m\n\u001b[0;32m    236\u001b[0m \u001b[38;5;28;01mdef\u001b[39;00m \u001b[38;5;21mset_axis\u001b[39m(\u001b[38;5;28mself\u001b[39m, axis: AxisInt, new_labels: Index) \u001b[38;5;241m-\u001b[39m\u001b[38;5;241m>\u001b[39m \u001b[38;5;28;01mNone\u001b[39;00m:\n\u001b[0;32m    237\u001b[0m     \u001b[38;5;66;03m# Caller is responsible for ensuring we have an Index object.\u001b[39;00m\n\u001b[1;32m--> 238\u001b[0m     \u001b[38;5;28mself\u001b[39m\u001b[38;5;241m.\u001b[39m_validate_set_axis(axis, new_labels)\n\u001b[0;32m    239\u001b[0m     \u001b[38;5;28mself\u001b[39m\u001b[38;5;241m.\u001b[39maxes[axis] \u001b[38;5;241m=\u001b[39m new_labels\n",
      "File \u001b[1;32m~\\anaconda3\\envs\\SeriesDeTiempo\\Lib\\site-packages\\pandas\\core\\internals\\base.py:98\u001b[0m, in \u001b[0;36mDataManager._validate_set_axis\u001b[1;34m(self, axis, new_labels)\u001b[0m\n\u001b[0;32m     95\u001b[0m     \u001b[38;5;28;01mpass\u001b[39;00m\n\u001b[0;32m     97\u001b[0m \u001b[38;5;28;01melif\u001b[39;00m new_len \u001b[38;5;241m!=\u001b[39m old_len:\n\u001b[1;32m---> 98\u001b[0m     \u001b[38;5;28;01mraise\u001b[39;00m \u001b[38;5;167;01mValueError\u001b[39;00m(\n\u001b[0;32m     99\u001b[0m         \u001b[38;5;124mf\u001b[39m\u001b[38;5;124m\"\u001b[39m\u001b[38;5;124mLength mismatch: Expected axis has \u001b[39m\u001b[38;5;132;01m{\u001b[39;00mold_len\u001b[38;5;132;01m}\u001b[39;00m\u001b[38;5;124m elements, new \u001b[39m\u001b[38;5;124m\"\u001b[39m\n\u001b[0;32m    100\u001b[0m         \u001b[38;5;124mf\u001b[39m\u001b[38;5;124m\"\u001b[39m\u001b[38;5;124mvalues have \u001b[39m\u001b[38;5;132;01m{\u001b[39;00mnew_len\u001b[38;5;132;01m}\u001b[39;00m\u001b[38;5;124m elements\u001b[39m\u001b[38;5;124m\"\u001b[39m\n\u001b[0;32m    101\u001b[0m     )\n",
      "\u001b[1;31mValueError\u001b[0m: Length mismatch: Expected axis has 1 elements, new values have 2 elements"
     ]
    }
   ],
   "source": [
    "import pandas as pd\n",
    "import numpy as np\n",
    "import plotly.express as px\n",
    "import matplotlib.pylab as plt\n",
    "from matplotlib.pylab import rcParams\n",
    "from statsmodels.graphics.tsaplots import plot_acf\n",
    "from statsmodels.tsa.stattools import acf\n",
    "from statsmodels.graphics.tsaplots import plot_pacf\n",
    "from statsmodels.tsa.stattools import pacf\n",
    "from pandas.plotting import register_matplotlib_converters\n",
    "import statsmodels.api as sm\n",
    "import datetime as dt\n",
    "import scipy as sp\n",
    "import scipy.stats \n",
    "import plotly.graph_objects as go\n",
    "rcParams['figure.figsize'] = 15, 10\n",
    "register_matplotlib_converters()\n",
    "\n",
    "import os\n",
    "os.chdir(\"D:\\Estadística\\Semestres\\Semestre 9\\Series de Tiempo Univariadas\\Datos\")\n",
    "os.getcwd()\n",
    "\n",
    "archivo_excel = \"D:/Estadística/Semestres/Semestre 9/Series de Tiempo Univariadas/Datos/1.4 PIB_Precios constantes grandes ramas de actividades economicas_trimestral_V2.xlsx\"\n",
    "\n",
    "# Leer el archivo Excel y seleccionar solo la columna \"AS\" desde la fila 18 hasta la fila 93\n",
    "Data = pd.read_excel(archivo_excel, usecols=\"AS\", skiprows=17, nrows=76, header=None)\n",
    "\n",
    "# Cambiar los nombres de las columnas\n",
    "nuevos_nombres = ['AnioMes', 'PIB']\n",
    "\n",
    "Data['AnioMes']=pd.to_datetime(Data['AnioMes'])#Convirtiendo la columna año y mes a formato fecha\n",
    "PIB1=Data.set_index('AnioMes')#Ordenando el dataframe, pero creo uno nuevo para volverlo objeto de series de tiempo luego\n",
    "#Convirtiendo el data frame en objeto serie de tiempo\n",
    "PIBTS=PIB1['PIB']\n",
    "\n",
    "BoxCoxStat=sp.stats.boxcox(PIBTS,alpha=0.05)\n",
    "BoxCoxStat[1]#Estimación de Lambda\n",
    "BoxCoxStat[2]#Intervalo de Confianza para Lambda"
   ]
  },
  {
   "cell_type": "code",
   "execution_count": 11,
   "id": "fab81fdc-a3a7-4959-af15-7af6e341f95a",
   "metadata": {},
   "outputs": [
    {
     "data": {
      "text/plain": [
       "(-0.3027164638127407, 2.3025000000665883)"
      ]
     },
     "execution_count": 11,
     "metadata": {},
     "output_type": "execute_result"
    }
   ],
   "source": [
    "Data.ndim\n",
    "Data\n",
    "type(Data)\n",
    "BoxCoxStat=sp.stats.boxcox(Data.squeeze(),alpha=0.05)\n",
    "BoxCoxStat[1]#Estimación de Lambda\n",
    "BoxCoxStat[2]#Intervalo de Confianza para Lambda"
   ]
  }
 ],
 "metadata": {
  "kernelspec": {
   "display_name": "Python 3 (ipykernel)",
   "language": "python",
   "name": "python3"
  },
  "language_info": {
   "codemirror_mode": {
    "name": "ipython",
    "version": 3
   },
   "file_extension": ".py",
   "mimetype": "text/x-python",
   "name": "python",
   "nbconvert_exporter": "python",
   "pygments_lexer": "ipython3",
   "version": "3.11.7"
  }
 },
 "nbformat": 4,
 "nbformat_minor": 5
}
