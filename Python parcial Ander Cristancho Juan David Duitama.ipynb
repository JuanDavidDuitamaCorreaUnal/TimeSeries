{
 "cells": [
  {
   "cell_type": "markdown",
   "id": "d48fb754-863c-44d0-bbec-2201aecf69a8",
   "metadata": {},
   "source": [
    "# Proyecto Series de Tiempo Univariadas\n",
    "El siguiente Script abarca las metodologías vistas en el semestre 2024-1 de Series de Tiempo Univariadas desarrolladas en Python, utilizando la medición de la tasa de desempleo en Colombia; desde enero de 2001 hasta diciembre de 2023.\n",
    "\n",
    "#### Integrantes: Ander Cristancho, Juan Duitama"
   ]
  },
  {
   "cell_type": "markdown",
   "id": "73f4b732-77bd-4f53-b57f-13403cd158ad",
   "metadata": {},
   "source": [
    "## Librerías utilizadas"
   ]
  },
  {
   "cell_type": "code",
   "execution_count": 102,
   "id": "1f262d8f-2cd9-4002-ab5a-82df12ceb37a",
   "metadata": {},
   "outputs": [],
   "source": [
    "from IPython.core.interactiveshell import InteractiveShell\n",
    "InteractiveShell.ast_node_interactivity = \"all\""
   ]
  },
  {
   "cell_type": "code",
   "execution_count": 103,
   "id": "eb0ee5f0-e5d7-4d84-84d6-1d7cfa9f2bc3",
   "metadata": {},
   "outputs": [],
   "source": [
    "import pandas as pd\n",
    "import numpy as np\n",
    "import plotly.express as px\n",
    "import matplotlib.pylab as plt\n",
    "import statsmodels.api as sm\n",
    "import datetime as dt\n",
    "import scipy as sp\n",
    "import scipy.stats \n",
    "\n",
    "import sklearn\n",
    "from sklearn.preprocessing import StandardScaler, MinMaxScaler\n",
    "from sklearn.model_selection import train_test_split\n",
    "import tensorflow.keras as keras\n",
    "import keras_tuner as kt\n",
    "from tensorflow.keras import layers\n",
    "from sklearn.model_selection import KFold, TimeSeriesSplit, GridSearchCV\n",
    "from statsmodels.graphics.tsaplots import plot_acf\n",
    "from statsmodels.graphics.tsaplots import plot_pacf"
   ]
  },
  {
   "cell_type": "markdown",
   "id": "c0f4d617-44b7-4c45-a886-1300e9922a4b",
   "metadata": {},
   "source": [
    "## Importación base de datos"
   ]
  },
  {
   "cell_type": "code",
   "execution_count": 104,
   "id": "c842a226-553e-42ab-a02d-7837af9fdb68",
   "metadata": {},
   "outputs": [
    {
     "data": {
      "text/plain": [
       "'C:\\\\Users\\\\EQUIPO\\\\Documents'"
      ]
     },
     "execution_count": 104,
     "metadata": {},
     "output_type": "execute_result"
    }
   ],
   "source": [
    "import os\n",
    "os.chdir(r\"C:\\Users\\EQUIPO\\Documents\")\n",
    "os.getcwd()"
   ]
  },
  {
   "cell_type": "code",
   "execution_count": 105,
   "id": "42034794-1398-4a8d-8b84-39b7729c7f5a",
   "metadata": {
    "scrolled": true
   },
   "outputs": [
    {
     "name": "stdout",
     "output_type": "stream",
     "text": [
      "2000 Dec       object\n",
      "Unnamed: 5    float64\n",
      "dtype: object\n"
     ]
    },
    {
     "data": {
      "text/html": [
       "<div>\n",
       "<style scoped>\n",
       "    .dataframe tbody tr th:only-of-type {\n",
       "        vertical-align: middle;\n",
       "    }\n",
       "\n",
       "    .dataframe tbody tr th {\n",
       "        vertical-align: top;\n",
       "    }\n",
       "\n",
       "    .dataframe thead th {\n",
       "        text-align: right;\n",
       "    }\n",
       "</style>\n",
       "<table border=\"1\" class=\"dataframe\">\n",
       "  <thead>\n",
       "    <tr style=\"text-align: right;\">\n",
       "      <th></th>\n",
       "      <th>Date</th>\n",
       "      <th>Value</th>\n",
       "    </tr>\n",
       "  </thead>\n",
       "  <tbody>\n",
       "    <tr>\n",
       "      <th>0</th>\n",
       "      <td>2001 Jan</td>\n",
       "      <td>57.575237</td>\n",
       "    </tr>\n",
       "    <tr>\n",
       "      <th>1</th>\n",
       "      <td>2001 Feb</td>\n",
       "      <td>56.928209</td>\n",
       "    </tr>\n",
       "    <tr>\n",
       "      <th>2</th>\n",
       "      <td>2001 Mar</td>\n",
       "      <td>57.574460</td>\n",
       "    </tr>\n",
       "    <tr>\n",
       "      <th>3</th>\n",
       "      <td>2001 Apr</td>\n",
       "      <td>55.756693</td>\n",
       "    </tr>\n",
       "    <tr>\n",
       "      <th>4</th>\n",
       "      <td>2001 May</td>\n",
       "      <td>56.225804</td>\n",
       "    </tr>\n",
       "    <tr>\n",
       "      <th>...</th>\n",
       "      <td>...</td>\n",
       "      <td>...</td>\n",
       "    </tr>\n",
       "    <tr>\n",
       "      <th>277</th>\n",
       "      <td>2024 Feb</td>\n",
       "      <td>56.362688</td>\n",
       "    </tr>\n",
       "    <tr>\n",
       "      <th>278</th>\n",
       "      <td>2024 Mar</td>\n",
       "      <td>56.678326</td>\n",
       "    </tr>\n",
       "    <tr>\n",
       "      <th>279</th>\n",
       "      <td>2024 Apr</td>\n",
       "      <td>57.157354</td>\n",
       "    </tr>\n",
       "    <tr>\n",
       "      <th>280</th>\n",
       "      <td>2024 May</td>\n",
       "      <td>57.502190</td>\n",
       "    </tr>\n",
       "    <tr>\n",
       "      <th>281</th>\n",
       "      <td>2024 Jun</td>\n",
       "      <td>57.160909</td>\n",
       "    </tr>\n",
       "  </tbody>\n",
       "</table>\n",
       "<p>282 rows × 2 columns</p>\n",
       "</div>"
      ],
      "text/plain": [
       "         Date      Value\n",
       "0    2001 Jan  57.575237\n",
       "1    2001 Feb  56.928209\n",
       "2    2001 Mar  57.574460\n",
       "3    2001 Apr  55.756693\n",
       "4    2001 May  56.225804\n",
       "..        ...        ...\n",
       "277  2024 Feb  56.362688\n",
       "278  2024 Mar  56.678326\n",
       "279  2024 Apr  57.157354\n",
       "280  2024 May  57.502190\n",
       "281  2024 Jun  57.160909\n",
       "\n",
       "[282 rows x 2 columns]"
      ]
     },
     "execution_count": 105,
     "metadata": {},
     "output_type": "execute_result"
    }
   ],
   "source": [
    "Data = pd.read_excel(\"Base_de_datos_Parcial.xlsx\",skiprows=12,nrows=282)\n",
    "Data = Data.iloc[:,[0,5]]\n",
    "print(Data.dtypes)\n",
    "# Cambiar los nombres de las columnas\n",
    "nuevos_nombres = ['Date', 'Value']\n",
    "Data.columns = nuevos_nombres\n",
    "Data\n",
    "regresoras = pd.read_csv('Regresoras.csv')\n",
    "regresoras = regresoras.iloc[12:]\n",
    "regresoras = regresoras.reset_index(drop=True)\n",
    "index = pd.date_range(start='2002-01-01', end='2024-06-01', freq='MS')\n",
    "regresoras.index = index"
   ]
  },
  {
   "cell_type": "markdown",
   "id": "8d154594-bfd0-4eee-a048-a4070254dc49",
   "metadata": {},
   "source": [
    "## Gráfica de la tasa de desempleo en Colombia"
   ]
  },
  {
   "cell_type": "code",
   "execution_count": 106,
   "id": "1d5c509d-9b90-417a-847a-ca9dd22d2f82",
   "metadata": {
    "scrolled": true
   },
   "outputs": [
    {
     "name": "stdout",
     "output_type": "stream",
     "text": [
      "<class 'pandas.core.frame.DataFrame'>\n",
      "<class 'pandas.core.series.Series'>\n"
     ]
    },
    {
     "name": "stderr",
     "output_type": "stream",
     "text": [
      "C:\\Users\\EQUIPO\\AppData\\Local\\Temp\\ipykernel_9268\\2700638135.py:2: UserWarning: Could not infer format, so each element will be parsed individually, falling back to `dateutil`. To ensure parsing is consistent and as-expected, please specify a format.\n",
      "  Data['Date']=pd.to_datetime(Data['Date'])#Convirtiendo la columna año y mes a formato fecha\n"
     ]
    },
    {
     "data": {
      "text/plain": [
       "[<matplotlib.lines.Line2D at 0x24cdaa2e710>]"
      ]
     },
     "execution_count": 106,
     "metadata": {},
     "output_type": "execute_result"
    },
    {
     "data": {
      "text/plain": [
       "Text(0.5, 1.0, 'Tasa de desempleo mensual en Colombia')"
      ]
     },
     "execution_count": 106,
     "metadata": {},
     "output_type": "execute_result"
    },
    {
     "data": {
      "image/png": "[encoded data removed]",
      "text/plain": [
       "<Figure size 640x480 with 1 Axes>"
      ]
     },
     "metadata": {},
     "output_type": "display_data"
    }
   ],
   "source": [
    "#Primera observación de los datos\n",
    "Data['Date']=pd.to_datetime(Data['Date'])#Convirtiendo la columna año y mes a formato fecha\n",
    "Data1=Data.set_index('Date')#Ordenando el dataframe, pero creo uno nuevo para volverlo objeto de series de tiempo luego\n",
    "print(type(Data1))\n",
    "#Convirtiendo el data frame en objeto serie de tiempo\n",
    "TS=Data1['Value']\n",
    "print(type(TS))\n",
    "plt.plot(TS)#Haciendo un primer gráfico de la serie de tiempo\n",
    "plt.title('Tasa de desempleo mensual en Colombia') "
   ]
  },
  {
   "cell_type": "markdown",
   "id": "9cebde36-1044-4478-9826-18a297a375b1",
   "metadata": {},
   "source": [
    "Siguiendo el análisis descriptivo de R, no se realizará transformación de Box-Cox para estabilizar la varianza."
   ]
  },
  {
   "cell_type": "code",
   "execution_count": 107,
   "id": "fd25e018-975b-4c2a-8565-d4a29fc0adf5",
   "metadata": {},
   "outputs": [
    {
     "data": {
      "image/png": "[encoded data removed]",
      "text/plain": [
       "<Figure size 640x480 with 1 Axes>"
      ]
     },
     "execution_count": 107,
     "metadata": {},
     "output_type": "execute_result"
    },
    {
     "data": {
      "image/png": "[encoded data removed]",
      "text/plain": [
       "<Figure size 640x480 with 1 Axes>"
      ]
     },
     "metadata": {},
     "output_type": "display_data"
    }
   ],
   "source": [
    "plot_pacf(TS, lags=40,method='ldbiased')\n",
    "plt.show()"
   ]
  },
  {
   "cell_type": "markdown",
   "id": "29dfec36-6a03-47f1-b0bf-6ef2a26f3af6",
   "metadata": {},
   "source": [
    "Aunque no todos los retardos parecen significativos, se utilizarán todos hasta el 12."
   ]
  },
  {
   "cell_type": "markdown",
   "id": "9fe4b845-9956-4133-9fda-c1cef0fc04e1",
   "metadata": {},
   "source": [
    "# Agregando componentes de Fourier"
   ]
  },
  {
   "cell_type": "code",
   "execution_count": 108,
   "id": "86482239-6ca4-43a1-964e-c9e0dd92fffc",
   "metadata": {},
   "outputs": [
    {
     "data": {
      "text/html": [
       "<div>\n",
       "<style scoped>\n",
       "    .dataframe tbody tr th:only-of-type {\n",
       "        vertical-align: middle;\n",
       "    }\n",
       "\n",
       "    .dataframe tbody tr th {\n",
       "        vertical-align: top;\n",
       "    }\n",
       "\n",
       "    .dataframe thead th {\n",
       "        text-align: right;\n",
       "    }\n",
       "</style>\n",
       "<table border=\"1\" class=\"dataframe\">\n",
       "  <thead>\n",
       "    <tr style=\"text-align: right;\">\n",
       "      <th></th>\n",
       "      <th>Date</th>\n",
       "      <th>Value</th>\n",
       "      <th>AnioSin</th>\n",
       "      <th>AnioCos</th>\n",
       "    </tr>\n",
       "  </thead>\n",
       "  <tbody>\n",
       "    <tr>\n",
       "      <th>0</th>\n",
       "      <td>2001-01-01</td>\n",
       "      <td>57.575237</td>\n",
       "      <td>0.008300</td>\n",
       "      <td>0.999966</td>\n",
       "    </tr>\n",
       "    <tr>\n",
       "      <th>1</th>\n",
       "      <td>2001-02-01</td>\n",
       "      <td>56.928209</td>\n",
       "      <td>0.515496</td>\n",
       "      <td>0.856892</td>\n",
       "    </tr>\n",
       "    <tr>\n",
       "      <th>2</th>\n",
       "      <td>2001-03-01</td>\n",
       "      <td>57.574460</td>\n",
       "      <td>0.853812</td>\n",
       "      <td>0.520582</td>\n",
       "    </tr>\n",
       "    <tr>\n",
       "      <th>3</th>\n",
       "      <td>2001-04-01</td>\n",
       "      <td>55.756693</td>\n",
       "      <td>0.999899</td>\n",
       "      <td>0.014246</td>\n",
       "    </tr>\n",
       "    <tr>\n",
       "      <th>4</th>\n",
       "      <td>2001-05-01</td>\n",
       "      <td>56.225804</td>\n",
       "      <td>0.876700</td>\n",
       "      <td>-0.481037</td>\n",
       "    </tr>\n",
       "    <tr>\n",
       "      <th>...</th>\n",
       "      <td>...</td>\n",
       "      <td>...</td>\n",
       "      <td>...</td>\n",
       "      <td>...</td>\n",
       "    </tr>\n",
       "    <tr>\n",
       "      <th>277</th>\n",
       "      <td>2024-02-01</td>\n",
       "      <td>56.362688</td>\n",
       "      <td>0.506958</td>\n",
       "      <td>0.861971</td>\n",
       "    </tr>\n",
       "    <tr>\n",
       "      <th>278</th>\n",
       "      <td>2024-03-01</td>\n",
       "      <td>56.678326</td>\n",
       "      <td>0.857573</td>\n",
       "      <td>0.514362</td>\n",
       "    </tr>\n",
       "    <tr>\n",
       "      <th>279</th>\n",
       "      <td>2024-04-01</td>\n",
       "      <td>57.157354</td>\n",
       "      <td>0.999976</td>\n",
       "      <td>0.006978</td>\n",
       "    </tr>\n",
       "    <tr>\n",
       "      <th>280</th>\n",
       "      <td>2024-05-01</td>\n",
       "      <td>57.502190</td>\n",
       "      <td>0.873181</td>\n",
       "      <td>-0.487396</td>\n",
       "    </tr>\n",
       "    <tr>\n",
       "      <th>281</th>\n",
       "      <td>2024-06-01</td>\n",
       "      <td>57.160909</td>\n",
       "      <td>0.504156</td>\n",
       "      <td>-0.863612</td>\n",
       "    </tr>\n",
       "  </tbody>\n",
       "</table>\n",
       "<p>282 rows × 4 columns</p>\n",
       "</div>"
      ],
      "text/plain": [
       "          Date      Value   AnioSin   AnioCos\n",
       "0   2001-01-01  57.575237  0.008300  0.999966\n",
       "1   2001-02-01  56.928209  0.515496  0.856892\n",
       "2   2001-03-01  57.574460  0.853812  0.520582\n",
       "3   2001-04-01  55.756693  0.999899  0.014246\n",
       "4   2001-05-01  56.225804  0.876700 -0.481037\n",
       "..         ...        ...       ...       ...\n",
       "277 2024-02-01  56.362688  0.506958  0.861971\n",
       "278 2024-03-01  56.678326  0.857573  0.514362\n",
       "279 2024-04-01  57.157354  0.999976  0.006978\n",
       "280 2024-05-01  57.502190  0.873181 -0.487396\n",
       "281 2024-06-01  57.160909  0.504156 -0.863612\n",
       "\n",
       "[282 rows x 4 columns]"
      ]
     },
     "execution_count": 108,
     "metadata": {},
     "output_type": "execute_result"
    }
   ],
   "source": [
    "day = 24*60*60\n",
    "year = (365.2425)*day\n",
    "\n",
    "AnioyMes = Data['Date']\n",
    "AnioyMes = AnioyMes.map(pd.Timestamp.timestamp) ###Convierte las fechas a float\n",
    "Data['AnioSin'] = np.sin(AnioyMes * (2 * np.pi / year))\n",
    "Data['AnioCos'] = np.cos(AnioyMes * (2 * np.pi / year))\n",
    "Data"
   ]
  },
  {
   "cell_type": "markdown",
   "id": "d8d75872-f0c5-41d0-bada-79d28ee1992b",
   "metadata": {},
   "source": [
    "# Modelamiento utilizando Redes Neuronales\n",
    "## Redes Neuronales Multicapa(MLP)\n"
   ]
  },
  {
   "cell_type": "code",
   "execution_count": 109,
   "id": "7c575954-5d47-4763-8348-a9c3e244b9be",
   "metadata": {
    "scrolled": true
   },
   "outputs": [
    {
     "name": "stdout",
     "output_type": "stream",
     "text": [
      "                 t-12       t-11       t-10        t-9        t-8        t-7  \\\n",
      "2002-01-01  57.160909  57.502190  57.157354  56.678326  56.362688  55.256829   \n",
      "2002-02-01  57.502190  57.157354  56.678326  56.362688  55.256829  57.434633   \n",
      "2002-03-01  57.157354  56.678326  56.362688  55.256829  57.434633  58.311301   \n",
      "2002-04-01  56.678326  56.362688  55.256829  57.434633  58.311301  58.122122   \n",
      "2002-05-01  56.362688  55.256829  57.434633  58.311301  58.122122  58.254995   \n",
      "2002-06-01  55.256829  57.434633  58.311301  58.122122  58.254995  58.465340   \n",
      "2002-07-01  57.434633  58.311301  58.122122  58.254995  58.465340  58.591552   \n",
      "2002-08-01  58.311301  58.122122  58.254995  58.465340  58.591552  58.324317   \n",
      "2002-09-01  58.122122  58.254995  58.465340  58.591552  58.324317  57.168700   \n",
      "2002-10-01  58.254995  58.465340  58.591552  58.324317  57.168700  57.679100   \n",
      "\n",
      "                  t-6        t-5        t-4        t-3  ...  AO29  AO76  \\\n",
      "2002-01-01  57.434633  58.311301  58.122122  58.254995  ...   0.0   0.0   \n",
      "2002-02-01  58.311301  58.122122  58.254995  58.465340  ...   0.0   0.0   \n",
      "2002-03-01  58.122122  58.254995  58.465340  58.591552  ...   0.0   0.0   \n",
      "2002-04-01  58.254995  58.465340  58.591552  58.324317  ...   0.0   0.0   \n",
      "2002-05-01  58.465340  58.591552  58.324317  57.168700  ...   0.0   0.0   \n",
      "2002-06-01  58.591552  58.324317  57.168700  57.679100  ...   0.0   0.0   \n",
      "2002-07-01  58.324317  57.168700  57.679100  57.880100  ...   0.0   0.0   \n",
      "2002-08-01  57.168700  57.679100  57.880100  56.516600  ...   0.0   0.0   \n",
      "2002-09-01  57.679100  57.880100  56.516600  54.697800  ...   0.0   0.0   \n",
      "2002-10-01  57.880100  56.516600  54.697800  57.251200  ...   0.0   0.0   \n",
      "\n",
      "            AO230  LS68  LS231  LS234  LS236  TC66  TC232      t+1  \n",
      "2002-01-01    0.0   0.0    0.0    0.0    0.0   0.0    0.0  57.1687  \n",
      "2002-02-01    0.0   0.0    0.0    0.0    0.0   0.0    0.0  57.6791  \n",
      "2002-03-01    0.0   0.0    0.0    0.0    0.0   0.0    0.0  57.8801  \n",
      "2002-04-01    0.0   0.0    0.0    0.0    0.0   0.0    0.0  56.5166  \n",
      "2002-05-01    0.0   0.0    0.0    0.0    0.0   0.0    0.0  54.6978  \n",
      "2002-06-01    0.0   0.0    0.0    0.0    0.0   0.0    0.0  57.2512  \n",
      "2002-07-01    0.0   0.0    0.0    0.0    0.0   0.0    0.0  57.3629  \n",
      "2002-08-01    0.0   0.0    0.0    0.0    0.0   0.0    0.0  57.7364  \n",
      "2002-09-01    0.0   0.0    0.0    0.0    0.0   0.0    0.0  57.2487  \n",
      "2002-10-01    0.0   0.0    0.0    0.0    0.0   0.0    0.0  56.7298  \n",
      "\n",
      "[10 rows x 34 columns]\n"
     ]
    }
   ],
   "source": [
    "NuevaConf = pd.DataFrame(Data['Value'].iloc[::-1].values,index=pd.date_range(start='2001-01-01', end='2024-6-01', freq='MS') )\n",
    "from pandas import DataFrame\n",
    "df2 = DataFrame()#Creando un DataFrame vacío para luego llenar\n",
    "for i in range(12,0,-1):\n",
    "    df2[['t-'+str(i)]] = NuevaConf.shift(i)#El método shift() se encarga de desplazar las filas i veces hacia abajo\n",
    "    \n",
    "#for i in range(6,1,-1):   \n",
    "\n",
    "Estacionalidad = \"dummy\" # dummy para estacionalidad dummy, fourier para componentes de tipo fourier, otra cosa para no hacer ninguno de estos 2\n",
    "\n",
    "if Estacionalidad == \"dummy\":\n",
    "    \n",
    "    df2.reset_index(inplace=True)\n",
    "    df2.rename(columns={'index': 'Fecha'}, inplace=True)\n",
    "    df2['Fecha']=pd.to_datetime(df2['Fecha'])  \n",
    "\n",
    "    meses = {\n",
    "        2: 'Febrero',\n",
    "        3: 'Marzo',\n",
    "        4: 'Abril',\n",
    "        5: 'Mayo',\n",
    "        6: 'Junio',\n",
    "        7: 'Julio',\n",
    "        8: 'Agosto',\n",
    "        9: 'Septiembre',\n",
    "        10: 'Octubre',\n",
    "        11: 'Noviembre',\n",
    "        12: 'Diciembre'\n",
    "    }\n",
    "\n",
    "    df2['Mes'] = df2['Fecha'].dt.month\n",
    "    dummies = pd.get_dummies(df2['Mes'], prefix='Mes', drop_first=True).astype(int)  # drop_first=True para evitar la multicolinealidad\n",
    "    df2 = df2.join(dummies)   \n",
    "    \n",
    "    column_mapping = {f'Mes_{num}': name for num, name in meses.items()}\n",
    "    df2.rename(columns=column_mapping, inplace=True)\n",
    "    \n",
    "    df2.set_index('Fecha', inplace=True)\n",
    "\n",
    "elif Estacionalidad == \"fourier\":\n",
    "    \n",
    "    NuevaConf2 = pd.DataFrame(Data[['AnioSin','AnioCos']].values,index=pd.date_range(start='2001-01-01', end='2024-06-01', freq='MS') )\n",
    "    df2[['Sin','Cos']] = NuevaConf2.values\n",
    "\n",
    "\n",
    "\n",
    "# Mostrar las primeras filas para verificar el cambio\n",
    "\n",
    "df2 = df2[:-1]\n",
    "regresoras = regresoras[:-1]\n",
    "df2 = pd.concat([df2, regresoras], axis=1)\n",
    "df2['t+1'] = NuevaConf.values[1:]\n",
    "df2 = df2[12:]\n",
    "print(df2.head(10))"
   ]
  },
  {
   "cell_type": "markdown",
   "id": "38657026-8256-4d0f-8a98-d7177f44265f",
   "metadata": {},
   "source": [
    "Se utilizará desde el retardo 12 hasta el retardo anterior a t debido a experiencia previa, pues trabajando con la serie del desempleo, que es la de nuestro proyecto y que realmente en comportamiento es muy parecida a esta serie de tasa de ocupación; al eliminar algunos retardos, la red neuronal no se comportaba bien. Sin embargo, nuestra variable respuesta es **t+1**, por lo que estaremos haciendo la predicción dos pasos adelante.\n",
    "\n",
    "Además se utilizarán variables dummy para modelar la estacionalidad porque con Fourier el modelo no ajustaba ni siquiera."
   ]
  },
  {
   "cell_type": "markdown",
   "id": "048fe023-45d0-4ce6-99db-6b028a4f6e27",
   "metadata": {},
   "source": [
    "## División entrenamiento y prueba"
   ]
  },
  {
   "cell_type": "code",
   "execution_count": 110,
   "id": "e0057227-5960-497a-aeee-abe6599ba398",
   "metadata": {
    "scrolled": true
   },
   "outputs": [],
   "source": [
    "fecha_inicio_val = '2022-01-01'  # Fecha de inicio del conjunto de validación\n",
    "fecha_inicio_test = '2023-01-01'  # Fecha de inicio del conjunto de prueba\n",
    "\n",
    "# Dividir el DataFrame en entrenamiento, validación y prueba\n",
    "train_feature = df2[df2.index <= '2021-12-01']  \n",
    "val_feature = df2[(df2.index >= '2022-01-01') & (df2.index <= '2022-12-01')]  \n",
    "train_feature_full = df2[df2.index <= '2022-12-01'] \n",
    "test_feature = df2[(df2.index >= '2023-01-01') & (df2.index <= '2023-12-01')]"
   ]
  },
  {
   "cell_type": "code",
   "execution_count": 111,
   "id": "ee031a35-5092-4f63-a6d3-9bfad7e62053",
   "metadata": {},
   "outputs": [
    {
     "name": "stdout",
     "output_type": "stream",
     "text": [
      "                 t-12       t-11       t-10        t-9        t-8        t-7  \\\n",
      "2002-01-01  57.160909  57.502190  57.157354  56.678326  56.362688  55.256829   \n",
      "2002-02-01  57.502190  57.157354  56.678326  56.362688  55.256829  57.434633   \n",
      "2002-03-01  57.157354  56.678326  56.362688  55.256829  57.434633  58.311301   \n",
      "2002-04-01  56.678326  56.362688  55.256829  57.434633  58.311301  58.122122   \n",
      "2002-05-01  56.362688  55.256829  57.434633  58.311301  58.122122  58.254995   \n",
      "...               ...        ...        ...        ...        ...        ...   \n",
      "2021-08-01  59.329464  58.604887  57.937423  57.524291  58.101888  56.414921   \n",
      "2021-09-01  58.604887  57.937423  57.524291  58.101888  56.414921  57.736975   \n",
      "2021-10-01  57.937423  57.524291  58.101888  56.414921  57.736975  57.160189   \n",
      "2021-11-01  57.524291  58.101888  56.414921  57.736975  57.160189  58.402600   \n",
      "2021-12-01  58.101888  56.414921  57.736975  57.160189  58.402600  56.797085   \n",
      "\n",
      "                  t-6        t-5        t-4        t-3  ...  AO29  AO76  \\\n",
      "2002-01-01  57.434633  58.311301  58.122122  58.254995  ...   0.0   0.0   \n",
      "2002-02-01  58.311301  58.122122  58.254995  58.465340  ...   0.0   0.0   \n",
      "2002-03-01  58.122122  58.254995  58.465340  58.591552  ...   0.0   0.0   \n",
      "2002-04-01  58.254995  58.465340  58.591552  58.324317  ...   0.0   0.0   \n",
      "2002-05-01  58.465340  58.591552  58.324317  57.168700  ...   0.0   0.0   \n",
      "...               ...        ...        ...        ...  ...   ...   ...   \n",
      "2021-08-01  57.736975  57.160189  58.402600  56.797085  ...   0.0   0.0   \n",
      "2021-09-01  57.160189  58.402600  56.797085  56.369651  ...   0.0   0.0   \n",
      "2021-10-01  58.402600  56.797085  56.369651  59.843455  ...   0.0   0.0   \n",
      "2021-11-01  56.797085  56.369651  59.843455  60.395304  ...   0.0   0.0   \n",
      "2021-12-01  56.369651  59.843455  60.395304  60.293066  ...   0.0   0.0   \n",
      "\n",
      "            AO230  LS68  LS231  LS234  LS236          TC66     TC232  \\\n",
      "2002-01-01    0.0   0.0    0.0    0.0    0.0  0.000000e+00  0.000000   \n",
      "2002-02-01    0.0   0.0    0.0    0.0    0.0  0.000000e+00  0.000000   \n",
      "2002-03-01    0.0   0.0    0.0    0.0    0.0  0.000000e+00  0.000000   \n",
      "2002-04-01    0.0   0.0    0.0    0.0    0.0  0.000000e+00  0.000000   \n",
      "2002-05-01    0.0   0.0    0.0    0.0    0.0  0.000000e+00  0.000000   \n",
      "...           ...   ...    ...    ...    ...           ...       ...   \n",
      "2021-08-01    0.0   1.0    1.0    1.0    1.0  6.424558e-29  0.003323   \n",
      "2021-09-01    0.0   1.0    1.0    1.0    1.0  4.497191e-29  0.002326   \n",
      "2021-10-01    0.0   1.0    1.0    1.0    1.0  3.148034e-29  0.001628   \n",
      "2021-11-01    0.0   1.0    1.0    1.0    1.0  2.203624e-29  0.001140   \n",
      "2021-12-01    0.0   1.0    1.0    1.0    1.0  1.542536e-29  0.000798   \n",
      "\n",
      "                  t+1  \n",
      "2002-01-01  57.168700  \n",
      "2002-02-01  57.679100  \n",
      "2002-03-01  57.880100  \n",
      "2002-04-01  56.516600  \n",
      "2002-05-01  54.697800  \n",
      "...               ...  \n",
      "2021-08-01  60.293066  \n",
      "2021-09-01  59.047631  \n",
      "2021-10-01  58.791977  \n",
      "2021-11-01  57.768326  \n",
      "2021-12-01  57.092651  \n",
      "\n",
      "[240 rows x 34 columns]\n"
     ]
    }
   ],
   "source": [
    "print(train_feature)"
   ]
  },
  {
   "cell_type": "code",
   "execution_count": 112,
   "id": "54493fef-7453-4675-a67a-8a0f95cbc42b",
   "metadata": {},
   "outputs": [
    {
     "name": "stdout",
     "output_type": "stream",
     "text": [
      "                 t-12       t-11       t-10        t-9        t-8        t-7  \\\n",
      "2022-01-01  56.414921  57.736975  57.160189  58.402600  56.797085  56.369651   \n",
      "2022-02-01  57.736975  57.160189  58.402600  56.797085  56.369651  59.843455   \n",
      "2022-03-01  57.160189  58.402600  56.797085  56.369651  59.843455  60.395304   \n",
      "2022-04-01  58.402600  56.797085  56.369651  59.843455  60.395304  60.293066   \n",
      "2022-05-01  56.797085  56.369651  59.843455  60.395304  60.293066  59.047631   \n",
      "2022-06-01  56.369651  59.843455  60.395304  60.293066  59.047631  58.791977   \n",
      "2022-07-01  59.843455  60.395304  60.293066  59.047631  58.791977  57.768326   \n",
      "2022-08-01  60.395304  60.293066  59.047631  58.791977  57.768326  57.092651   \n",
      "2022-09-01  60.293066  59.047631  58.791977  57.768326  57.092651  59.538093   \n",
      "2022-10-01  59.047631  58.791977  57.768326  57.092651  59.538093  57.415488   \n",
      "2022-11-01  58.791977  57.768326  57.092651  59.538093  57.415488  59.020967   \n",
      "2022-12-01  57.768326  57.092651  59.538093  57.415488  59.020967  57.080815   \n",
      "\n",
      "                  t-6        t-5        t-4        t-3  ...  AO29  AO76  \\\n",
      "2022-01-01  59.843455  60.395304  60.293066  59.047631  ...   0.0   0.0   \n",
      "2022-02-01  60.395304  60.293066  59.047631  58.791977  ...   0.0   0.0   \n",
      "2022-03-01  60.293066  59.047631  58.791977  57.768326  ...   0.0   0.0   \n",
      "2022-04-01  59.047631  58.791977  57.768326  57.092651  ...   0.0   0.0   \n",
      "2022-05-01  58.791977  57.768326  57.092651  59.538093  ...   0.0   0.0   \n",
      "2022-06-01  57.768326  57.092651  59.538093  57.415488  ...   0.0   0.0   \n",
      "2022-07-01  57.092651  59.538093  57.415488  59.020967  ...   0.0   0.0   \n",
      "2022-08-01  59.538093  57.415488  59.020967  57.080815  ...   0.0   0.0   \n",
      "2022-09-01  57.415488  59.020967  57.080815  56.433797  ...   0.0   0.0   \n",
      "2022-10-01  59.020967  57.080815  56.433797  56.665447  ...   0.0   0.0   \n",
      "2022-11-01  57.080815  56.433797  56.665447  58.019693  ...   0.0   0.0   \n",
      "2022-12-01  56.433797  56.665447  58.019693  58.341028  ...   0.0   0.0   \n",
      "\n",
      "            AO230  LS68  LS231  LS234  LS236          TC66     TC232  \\\n",
      "2022-01-01    0.0   1.0    1.0    1.0    1.0  1.079776e-29  0.000559   \n",
      "2022-02-01    0.0   1.0    1.0    1.0    1.0  7.558429e-30  0.000391   \n",
      "2022-03-01    0.0   1.0    1.0    1.0    1.0  5.290900e-30  0.000274   \n",
      "2022-04-01    0.0   1.0    1.0    1.0    1.0  3.703630e-30  0.000192   \n",
      "2022-05-01    0.0   1.0    1.0    1.0    1.0  2.592541e-30  0.000134   \n",
      "2022-06-01    0.0   1.0    1.0    1.0    1.0  1.814779e-30  0.000094   \n",
      "2022-07-01    0.0   1.0    1.0    1.0    1.0  1.270345e-30  0.000066   \n",
      "2022-08-01    0.0   1.0    1.0    1.0    1.0  8.892416e-31  0.000046   \n",
      "2022-09-01    0.0   1.0    1.0    1.0    1.0  6.224691e-31  0.000032   \n",
      "2022-10-01    0.0   1.0    1.0    1.0    1.0  4.357284e-31  0.000023   \n",
      "2022-11-01    0.0   1.0    1.0    1.0    1.0  3.050099e-31  0.000016   \n",
      "2022-12-01    0.0   1.0    1.0    1.0    1.0  2.135069e-31  0.000011   \n",
      "\n",
      "                  t+1  \n",
      "2022-01-01  59.538093  \n",
      "2022-02-01  57.415488  \n",
      "2022-03-01  59.020967  \n",
      "2022-04-01  57.080815  \n",
      "2022-05-01  56.433797  \n",
      "2022-06-01  56.665447  \n",
      "2022-07-01  58.019693  \n",
      "2022-08-01  58.341028  \n",
      "2022-09-01  57.023163  \n",
      "2022-10-01  55.932460  \n",
      "2022-11-01  57.016176  \n",
      "2022-12-01  55.974103  \n",
      "\n",
      "[12 rows x 34 columns]\n"
     ]
    }
   ],
   "source": [
    "print(val_feature)"
   ]
  },
  {
   "cell_type": "code",
   "execution_count": 113,
   "id": "355bb6dc-04ba-49f7-a038-7b44a6f688f1",
   "metadata": {},
   "outputs": [
    {
     "name": "stdout",
     "output_type": "stream",
     "text": [
      "                 t-12       t-11       t-10        t-9        t-8        t-7  \\\n",
      "2002-01-01  57.160909  57.502190  57.157354  56.678326  56.362688  55.256829   \n",
      "2002-02-01  57.502190  57.157354  56.678326  56.362688  55.256829  57.434633   \n",
      "2002-03-01  57.157354  56.678326  56.362688  55.256829  57.434633  58.311301   \n",
      "2002-04-01  56.678326  56.362688  55.256829  57.434633  58.311301  58.122122   \n",
      "2002-05-01  56.362688  55.256829  57.434633  58.311301  58.122122  58.254995   \n",
      "...               ...        ...        ...        ...        ...        ...   \n",
      "2022-08-01  60.395304  60.293066  59.047631  58.791977  57.768326  57.092651   \n",
      "2022-09-01  60.293066  59.047631  58.791977  57.768326  57.092651  59.538093   \n",
      "2022-10-01  59.047631  58.791977  57.768326  57.092651  59.538093  57.415488   \n",
      "2022-11-01  58.791977  57.768326  57.092651  59.538093  57.415488  59.020967   \n",
      "2022-12-01  57.768326  57.092651  59.538093  57.415488  59.020967  57.080815   \n",
      "\n",
      "                  t-6        t-5        t-4        t-3  ...  AO29  AO76  \\\n",
      "2002-01-01  57.434633  58.311301  58.122122  58.254995  ...   0.0   0.0   \n",
      "2002-02-01  58.311301  58.122122  58.254995  58.465340  ...   0.0   0.0   \n",
      "2002-03-01  58.122122  58.254995  58.465340  58.591552  ...   0.0   0.0   \n",
      "2002-04-01  58.254995  58.465340  58.591552  58.324317  ...   0.0   0.0   \n",
      "2002-05-01  58.465340  58.591552  58.324317  57.168700  ...   0.0   0.0   \n",
      "...               ...        ...        ...        ...  ...   ...   ...   \n",
      "2022-08-01  59.538093  57.415488  59.020967  57.080815  ...   0.0   0.0   \n",
      "2022-09-01  57.415488  59.020967  57.080815  56.433797  ...   0.0   0.0   \n",
      "2022-10-01  59.020967  57.080815  56.433797  56.665447  ...   0.0   0.0   \n",
      "2022-11-01  57.080815  56.433797  56.665447  58.019693  ...   0.0   0.0   \n",
      "2022-12-01  56.433797  56.665447  58.019693  58.341028  ...   0.0   0.0   \n",
      "\n",
      "            AO230  LS68  LS231  LS234  LS236          TC66     TC232  \\\n",
      "2002-01-01    0.0   0.0    0.0    0.0    0.0  0.000000e+00  0.000000   \n",
      "2002-02-01    0.0   0.0    0.0    0.0    0.0  0.000000e+00  0.000000   \n",
      "2002-03-01    0.0   0.0    0.0    0.0    0.0  0.000000e+00  0.000000   \n",
      "2002-04-01    0.0   0.0    0.0    0.0    0.0  0.000000e+00  0.000000   \n",
      "2002-05-01    0.0   0.0    0.0    0.0    0.0  0.000000e+00  0.000000   \n",
      "...           ...   ...    ...    ...    ...           ...       ...   \n",
      "2022-08-01    0.0   1.0    1.0    1.0    1.0  8.892416e-31  0.000046   \n",
      "2022-09-01    0.0   1.0    1.0    1.0    1.0  6.224691e-31  0.000032   \n",
      "2022-10-01    0.0   1.0    1.0    1.0    1.0  4.357284e-31  0.000023   \n",
      "2022-11-01    0.0   1.0    1.0    1.0    1.0  3.050099e-31  0.000016   \n",
      "2022-12-01    0.0   1.0    1.0    1.0    1.0  2.135069e-31  0.000011   \n",
      "\n",
      "                  t+1  \n",
      "2002-01-01  57.168700  \n",
      "2002-02-01  57.679100  \n",
      "2002-03-01  57.880100  \n",
      "2002-04-01  56.516600  \n",
      "2002-05-01  54.697800  \n",
      "...               ...  \n",
      "2022-08-01  58.341028  \n",
      "2022-09-01  57.023163  \n",
      "2022-10-01  55.932460  \n",
      "2022-11-01  57.016176  \n",
      "2022-12-01  55.974103  \n",
      "\n",
      "[252 rows x 34 columns]\n"
     ]
    }
   ],
   "source": [
    "print(train_feature_full)"
   ]
  },
  {
   "cell_type": "code",
   "execution_count": 114,
   "id": "ca51e292-6d5c-4078-a7ec-79001d71b3d3",
   "metadata": {},
   "outputs": [
    {
     "name": "stdout",
     "output_type": "stream",
     "text": [
      "                 t-12       t-11       t-10        t-9        t-8        t-7  \\\n",
      "2023-01-01  57.092651  59.538093  57.415488  59.020967  57.080815  56.433797   \n",
      "2023-02-01  59.538093  57.415488  59.020967  57.080815  56.433797  56.665447   \n",
      "2023-03-01  57.415488  59.020967  57.080815  56.433797  56.665447  58.019693   \n",
      "2023-04-01  59.020967  57.080815  56.433797  56.665447  58.019693  58.341028   \n",
      "2023-05-01  57.080815  56.433797  56.665447  58.019693  58.341028  57.023163   \n",
      "2023-06-01  56.433797  56.665447  58.019693  58.341028  57.023163  55.932460   \n",
      "2023-07-01  56.665447  58.019693  58.341028  57.023163  55.932460  57.016176   \n",
      "2023-08-01  58.019693  58.341028  57.023163  55.932460  57.016176  55.974103   \n",
      "2023-09-01  58.341028  57.023163  55.932460  57.016176  55.974103  56.680111   \n",
      "2023-10-01  57.023163  55.932460  57.016176  55.974103  56.680111  57.806830   \n",
      "2023-11-01  55.932460  57.016176  55.974103  56.680111  57.806830  57.006099   \n",
      "2023-12-01  57.016176  55.974103  56.680111  57.806830  57.006099  57.168760   \n",
      "\n",
      "                  t-6        t-5        t-4        t-3  ...  AO29  AO76  \\\n",
      "2023-01-01  56.665447  58.019693  58.341028  57.023163  ...   0.0   0.0   \n",
      "2023-02-01  58.019693  58.341028  57.023163  55.932460  ...   0.0   0.0   \n",
      "2023-03-01  58.341028  57.023163  55.932460  57.016176  ...   0.0   0.0   \n",
      "2023-04-01  57.023163  55.932460  57.016176  55.974103  ...   0.0   0.0   \n",
      "2023-05-01  55.932460  57.016176  55.974103  56.680111  ...   0.0   0.0   \n",
      "2023-06-01  57.016176  55.974103  56.680111  57.806830  ...   0.0   0.0   \n",
      "2023-07-01  55.974103  56.680111  57.806830  57.006099  ...   0.0   0.0   \n",
      "2023-08-01  56.680111  57.806830  57.006099  57.168760  ...   0.0   0.0   \n",
      "2023-09-01  57.806830  57.006099  57.168760  56.118897  ...   0.0   0.0   \n",
      "2023-10-01  57.006099  57.168760  56.118897  59.444614  ...   0.0   0.0   \n",
      "2023-11-01  57.168760  56.118897  59.444614  60.149750  ...   0.0   0.0   \n",
      "2023-12-01  56.118897  59.444614  60.149750  58.560927  ...   0.0   0.0   \n",
      "\n",
      "            AO230  LS68  LS231  LS234  LS236  TC66  TC232        t+1  \n",
      "2023-01-01    0.0   1.0    1.0    1.0    1.0   0.0    0.0  56.680111  \n",
      "2023-02-01    0.0   1.0    1.0    1.0    1.0   0.0    0.0  57.806830  \n",
      "2023-03-01    0.0   1.0    1.0    1.0    1.0   0.0    0.0  57.006099  \n",
      "2023-04-01    0.0   1.0    1.0    1.0    1.0   0.0    0.0  57.168760  \n",
      "2023-05-01    0.0   1.0    1.0    1.0    1.0   0.0    0.0  56.118897  \n",
      "2023-06-01    0.0   1.0    1.0    1.0    1.0   0.0    0.0  59.444614  \n",
      "2023-07-01    0.0   1.0    1.0    1.0    1.0   0.0    0.0  60.149750  \n",
      "2023-08-01    0.0   1.0    1.0    1.0    1.0   0.0    0.0  58.560927  \n",
      "2023-09-01    0.0   1.0    1.0    1.0    1.0   0.0    0.0  58.693903  \n",
      "2023-10-01    0.0   1.0    1.0    1.0    1.0   0.0    0.0  57.380865  \n",
      "2023-11-01    0.0   1.0    1.0    1.0    1.0   0.0    0.0  56.608967  \n",
      "2023-12-01    0.0   1.0    1.0    1.0    1.0   0.0    0.0  56.176257  \n",
      "\n",
      "[12 rows x 34 columns]\n"
     ]
    }
   ],
   "source": [
    "print(test_feature)"
   ]
  },
  {
   "cell_type": "code",
   "execution_count": 115,
   "id": "db71d89b-b285-44ed-87a3-ebcdcfdd078d",
   "metadata": {},
   "outputs": [
    {
     "data": {
      "text/plain": [
       "numpy.ndarray"
      ]
     },
     "execution_count": 115,
     "metadata": {},
     "output_type": "execute_result"
    }
   ],
   "source": [
    "X_train_full = train_feature_full.values[:, 0:-1]\n",
    "y_train_full = train_feature_full.values[:,-1]\n",
    "\n",
    "X_test = test_feature.values[:, 0:-1]\n",
    "y_test = test_feature.values[:,-1]\n",
    "\n",
    "X_train = train_feature.values[:, 0:-1]\n",
    "y_train = train_feature.values[:,-1]\n",
    "\n",
    "X_val = val_feature.values[:, 0:-1]\n",
    "y_val = val_feature.values[:,-1]\n",
    "\n",
    "type(X_val)"
   ]
  },
  {
   "cell_type": "markdown",
   "id": "c385dd93-3a14-4450-a32c-6112451ae8cf",
   "metadata": {},
   "source": [
    "División del entrenamiento en entrenamiento y validación (el tamaño de los conjuntos fue dado por el enunciado)."
   ]
  },
  {
   "cell_type": "markdown",
   "id": "1f3c6542-5b2f-4dfb-98aa-5fdf97bc056a",
   "metadata": {},
   "source": [
    "### Estandarización de las covariables\n",
    "\n",
    "Esto para ayudar a la convergencia de los métodos"
   ]
  },
  {
   "cell_type": "code",
   "execution_count": 116,
   "id": "570a5326-aba0-44bb-bd16-4100ab84515d",
   "metadata": {},
   "outputs": [],
   "source": [
    "scaler=MinMaxScaler()\n",
    "X_train=scaler.fit_transform(X_train)\n",
    "X_val=scaler.transform(X_val)\n",
    "X_test=scaler.transform(X_test)"
   ]
  },
  {
   "cell_type": "markdown",
   "id": "92537bf8-2a54-4525-a7f7-885329180f29",
   "metadata": {},
   "source": [
    "Las respuestas no se estandarizan"
   ]
  },
  {
   "cell_type": "code",
   "execution_count": 117,
   "id": "7b0e569b-ebd6-4abf-8d03-a014ddac19ba",
   "metadata": {},
   "outputs": [],
   "source": [
    "import random"
   ]
  },
  {
   "cell_type": "code",
   "execution_count": 118,
   "id": "01878ffe-4411-4592-b71a-f655765a6b43",
   "metadata": {},
   "outputs": [
    {
     "data": {
      "text/plain": [
       "<Sequential name=sequential_2, built=False>"
      ]
     },
     "execution_count": 118,
     "metadata": {},
     "output_type": "execute_result"
    }
   ],
   "source": [
    "def build_model(hp):\n",
    "    model = keras.Sequential()\n",
    "    model.add(layers.Dense(units=hp.Int(\"num_units\", min_value=8, max_value=32, step=24),\n",
    "                activation=hp.Choice(\"activation\", [\"relu\", \"tanh\"])))\n",
    "    # Tune the number of layers.\n",
    "    for i in range(hp.Int(\"num_layers\", 1, 2)):\n",
    "        model.add(\n",
    "            layers.Dense(\n",
    "                # Tune number of units separately.\n",
    "                units=hp.Int(f\"units_{i}\", min_value=8, max_value=32, step=24),\n",
    "                activation=hp.Choice(\"activation\", [\"relu\", \"tanh\"]),\n",
    "            )\n",
    "        )\n",
    "    if hp.Boolean(\"dropout\"):\n",
    "        model.add(layers.Dropout(rate=0.25))\n",
    "    model.add(layers.Dense(1, activation=\"linear\"))\n",
    "    learning_rate = hp.Float(\"lr\", min_value=1e-3, max_value=1e-2,step=0.003)\n",
    "    model.compile(\n",
    "        optimizer=keras.optimizers.Adam(learning_rate=learning_rate),\n",
    "        loss=\"mean_squared_error\",\n",
    "        metrics=[\"mean_squared_error\"]\n",
    "    )\n",
    "    return model\n",
    "\n",
    "\n",
    "build_model(kt.HyperParameters())"
   ]
  },
  {
   "cell_type": "markdown",
   "id": "3570bd53-3bbf-4f26-b5de-ec30f60e3aa5",
   "metadata": {},
   "source": [
    "### Búsqueda de los hiperparámetros utilizando Grid Search"
   ]
  },
  {
   "cell_type": "code",
   "execution_count": 119,
   "id": "038ace76-2a2c-4d4f-bc8b-6dbf0afa470b",
   "metadata": {},
   "outputs": [],
   "source": [
    "tuner_GridSearch_mlp = kt.GridSearch(\n",
    "    hypermodel=build_model,\n",
    "    objective=\"val_loss\",\n",
    "    max_trials=None,\n",
    "    executions_per_trial=1,\n",
    "    overwrite=True,\n",
    "    directory=\"dirsalida\",\n",
    "    project_name=\"helloworld\",\n",
    ")"
   ]
  },
  {
   "cell_type": "code",
   "execution_count": 120,
   "id": "4d02adff-e91c-4710-b3e6-37cf3eec3439",
   "metadata": {},
   "outputs": [
    {
     "name": "stdout",
     "output_type": "stream",
     "text": [
      "Search space summary\n",
      "Default search space size: 6\n",
      "num_units (Int)\n",
      "{'default': None, 'conditions': [], 'min_value': 8, 'max_value': 32, 'step': 24, 'sampling': 'linear'}\n",
      "activation (Choice)\n",
      "{'default': 'relu', 'conditions': [], 'values': ['relu', 'tanh'], 'ordered': False}\n",
      "num_layers (Int)\n",
      "{'default': None, 'conditions': [], 'min_value': 1, 'max_value': 2, 'step': 1, 'sampling': 'linear'}\n",
      "units_0 (Int)\n",
      "{'default': None, 'conditions': [], 'min_value': 8, 'max_value': 32, 'step': 24, 'sampling': 'linear'}\n",
      "dropout (Boolean)\n",
      "{'default': False, 'conditions': []}\n",
      "lr (Float)\n",
      "{'default': 0.001, 'conditions': [], 'min_value': 0.001, 'max_value': 0.01, 'step': 0.003, 'sampling': 'linear'}\n"
     ]
    }
   ],
   "source": [
    "tuner_GridSearch_mlp.search_space_summary()"
   ]
  },
  {
   "cell_type": "code",
   "execution_count": 121,
   "id": "a8b8abd3-5f51-4747-8bb1-269e3d130d15",
   "metadata": {},
   "outputs": [],
   "source": [
    "stop_early=keras.callbacks.EarlyStopping(monitor=\"val_loss\",patience=2)"
   ]
  },
  {
   "cell_type": "code",
   "execution_count": 122,
   "id": "675066da-94b6-4423-9965-9fc9be60af96",
   "metadata": {},
   "outputs": [
    {
     "name": "stdout",
     "output_type": "stream",
     "text": [
      "Trial 240 Complete [00h 00m 07s]\n",
      "val_loss: 1.2145267724990845\n",
      "\n",
      "Best val_loss So Far: 1.209227442741394\n",
      "Total elapsed time: 00h 26m 46s\n"
     ]
    }
   ],
   "source": [
    "random.seed(123)\n",
    "tuner_GridSearch_mlp.search(X_train,y_train, batch_size = 10, epochs=50, validation_data=(X_val,y_val),callbacks=[stop_early])"
   ]
  },
  {
   "cell_type": "code",
   "execution_count": 123,
   "id": "21e4bfd0-1345-4bd1-9724-544dabf98c37",
   "metadata": {
    "scrolled": true
   },
   "outputs": [
    {
     "name": "stderr",
     "output_type": "stream",
     "text": [
      "C:\\Users\\EQUIPO\\anaconda3\\envs\\SeriesDeTiempo\\Lib\\site-packages\\keras\\src\\saving\\saving_lib.py:415: UserWarning: Skipping variable loading for optimizer 'adam', because it has 2 variables whereas the saved optimizer has 18 variables. \n",
      "  saveable.load_own_variables(weights_store.get(inner_path))\n"
     ]
    },
    {
     "data": {
      "text/html": [
       "<pre style=\"white-space:pre;overflow-x:auto;line-height:normal;font-family:Menlo,'DejaVu Sans Mono',consolas,'Courier New',monospace\"><span style=\"font-weight: bold\">Model: \"sequential\"</span>\n",
       "</pre>\n"
      ],
      "text/plain": [
       "\u001b[1mModel: \"sequential\"\u001b[0m\n"
      ]
     },
     "metadata": {},
     "output_type": "display_data"
    },
    {
     "data": {
      "text/html": [
       "<pre style=\"white-space:pre;overflow-x:auto;line-height:normal;font-family:Menlo,'DejaVu Sans Mono',consolas,'Courier New',monospace\">┏━━━━━━━━━━━━━━━━━━━━━━━━━━━━━━━━━┳━━━━━━━━━━━━━━━━━━━━━━━━┳━━━━━━━━━━━━━━━┓\n",
       "┃<span style=\"font-weight: bold\"> Layer (type)                    </span>┃<span style=\"font-weight: bold\"> Output Shape           </span>┃<span style=\"font-weight: bold\">       Param # </span>┃\n",
       "┡━━━━━━━━━━━━━━━━━━━━━━━━━━━━━━━━━╇━━━━━━━━━━━━━━━━━━━━━━━━╇━━━━━━━━━━━━━━━┩\n",
       "│ dense (<span style=\"color: #0087ff; text-decoration-color: #0087ff\">Dense</span>)                   │ (<span style=\"color: #00af00; text-decoration-color: #00af00\">10</span>, <span style=\"color: #00af00; text-decoration-color: #00af00\">32</span>)               │         <span style=\"color: #00af00; text-decoration-color: #00af00\">1,088</span> │\n",
       "├─────────────────────────────────┼────────────────────────┼───────────────┤\n",
       "│ dense_1 (<span style=\"color: #0087ff; text-decoration-color: #0087ff\">Dense</span>)                 │ (<span style=\"color: #00af00; text-decoration-color: #00af00\">10</span>, <span style=\"color: #00af00; text-decoration-color: #00af00\">8</span>)                │           <span style=\"color: #00af00; text-decoration-color: #00af00\">264</span> │\n",
       "├─────────────────────────────────┼────────────────────────┼───────────────┤\n",
       "│ dense_2 (<span style=\"color: #0087ff; text-decoration-color: #0087ff\">Dense</span>)                 │ (<span style=\"color: #00af00; text-decoration-color: #00af00\">10</span>, <span style=\"color: #00af00; text-decoration-color: #00af00\">32</span>)               │           <span style=\"color: #00af00; text-decoration-color: #00af00\">288</span> │\n",
       "├─────────────────────────────────┼────────────────────────┼───────────────┤\n",
       "│ dropout (<span style=\"color: #0087ff; text-decoration-color: #0087ff\">Dropout</span>)               │ (<span style=\"color: #00af00; text-decoration-color: #00af00\">10</span>, <span style=\"color: #00af00; text-decoration-color: #00af00\">32</span>)               │             <span style=\"color: #00af00; text-decoration-color: #00af00\">0</span> │\n",
       "├─────────────────────────────────┼────────────────────────┼───────────────┤\n",
       "│ dense_3 (<span style=\"color: #0087ff; text-decoration-color: #0087ff\">Dense</span>)                 │ (<span style=\"color: #00af00; text-decoration-color: #00af00\">10</span>, <span style=\"color: #00af00; text-decoration-color: #00af00\">1</span>)                │            <span style=\"color: #00af00; text-decoration-color: #00af00\">33</span> │\n",
       "└─────────────────────────────────┴────────────────────────┴───────────────┘\n",
       "</pre>\n"
      ],
      "text/plain": [
       "┏━━━━━━━━━━━━━━━━━━━━━━━━━━━━━━━━━┳━━━━━━━━━━━━━━━━━━━━━━━━┳━━━━━━━━━━━━━━━┓\n",
       "┃\u001b[1m \u001b[0m\u001b[1mLayer (type)                   \u001b[0m\u001b[1m \u001b[0m┃\u001b[1m \u001b[0m\u001b[1mOutput Shape          \u001b[0m\u001b[1m \u001b[0m┃\u001b[1m \u001b[0m\u001b[1m      Param #\u001b[0m\u001b[1m \u001b[0m┃\n",
       "┡━━━━━━━━━━━━━━━━━━━━━━━━━━━━━━━━━╇━━━━━━━━━━━━━━━━━━━━━━━━╇━━━━━━━━━━━━━━━┩\n",
       "│ dense (\u001b[38;5;33mDense\u001b[0m)                   │ (\u001b[38;5;34m10\u001b[0m, \u001b[38;5;34m32\u001b[0m)               │         \u001b[38;5;34m1,088\u001b[0m │\n",
       "├─────────────────────────────────┼────────────────────────┼───────────────┤\n",
       "│ dense_1 (\u001b[38;5;33mDense\u001b[0m)                 │ (\u001b[38;5;34m10\u001b[0m, \u001b[38;5;34m8\u001b[0m)                │           \u001b[38;5;34m264\u001b[0m │\n",
       "├─────────────────────────────────┼────────────────────────┼───────────────┤\n",
       "│ dense_2 (\u001b[38;5;33mDense\u001b[0m)                 │ (\u001b[38;5;34m10\u001b[0m, \u001b[38;5;34m32\u001b[0m)               │           \u001b[38;5;34m288\u001b[0m │\n",
       "├─────────────────────────────────┼────────────────────────┼───────────────┤\n",
       "│ dropout (\u001b[38;5;33mDropout\u001b[0m)               │ (\u001b[38;5;34m10\u001b[0m, \u001b[38;5;34m32\u001b[0m)               │             \u001b[38;5;34m0\u001b[0m │\n",
       "├─────────────────────────────────┼────────────────────────┼───────────────┤\n",
       "│ dense_3 (\u001b[38;5;33mDense\u001b[0m)                 │ (\u001b[38;5;34m10\u001b[0m, \u001b[38;5;34m1\u001b[0m)                │            \u001b[38;5;34m33\u001b[0m │\n",
       "└─────────────────────────────────┴────────────────────────┴───────────────┘\n"
      ]
     },
     "metadata": {},
     "output_type": "display_data"
    },
    {
     "data": {
      "text/html": [
       "<pre style=\"white-space:pre;overflow-x:auto;line-height:normal;font-family:Menlo,'DejaVu Sans Mono',consolas,'Courier New',monospace\"><span style=\"font-weight: bold\"> Total params: </span><span style=\"color: #00af00; text-decoration-color: #00af00\">1,673</span> (6.54 KB)\n",
       "</pre>\n"
      ],
      "text/plain": [
       "\u001b[1m Total params: \u001b[0m\u001b[38;5;34m1,673\u001b[0m (6.54 KB)\n"
      ]
     },
     "metadata": {},
     "output_type": "display_data"
    },
    {
     "data": {
      "text/html": [
       "<pre style=\"white-space:pre;overflow-x:auto;line-height:normal;font-family:Menlo,'DejaVu Sans Mono',consolas,'Courier New',monospace\"><span style=\"font-weight: bold\"> Trainable params: </span><span style=\"color: #00af00; text-decoration-color: #00af00\">1,673</span> (6.54 KB)\n",
       "</pre>\n"
      ],
      "text/plain": [
       "\u001b[1m Trainable params: \u001b[0m\u001b[38;5;34m1,673\u001b[0m (6.54 KB)\n"
      ]
     },
     "metadata": {},
     "output_type": "display_data"
    },
    {
     "data": {
      "text/html": [
       "<pre style=\"white-space:pre;overflow-x:auto;line-height:normal;font-family:Menlo,'DejaVu Sans Mono',consolas,'Courier New',monospace\"><span style=\"font-weight: bold\"> Non-trainable params: </span><span style=\"color: #00af00; text-decoration-color: #00af00\">0</span> (0.00 B)\n",
       "</pre>\n"
      ],
      "text/plain": [
       "\u001b[1m Non-trainable params: \u001b[0m\u001b[38;5;34m0\u001b[0m (0.00 B)\n"
      ]
     },
     "metadata": {},
     "output_type": "display_data"
    }
   ],
   "source": [
    "# Get the top 2 models.\n",
    "models_mlp = tuner_GridSearch_mlp.get_best_models(num_models=2)\n",
    "best_model_mlp = models_mlp[0]\n",
    "# Build the model.\n",
    "# Needed for `Sequential` without specified `input_shape`.\n",
    "# best_model_mlp.build(input_shape=(32, 1, 7))\n",
    "best_model_mlp.summary()"
   ]
  },
  {
   "cell_type": "markdown",
   "id": "50206cb1-4a7a-4656-84a3-52a5fdcddebe",
   "metadata": {},
   "source": [
    "#### Los mejores 10 modelos"
   ]
  },
  {
   "cell_type": "code",
   "execution_count": 124,
   "id": "5a58e126-c5e6-43cd-a098-cb8745f528e5",
   "metadata": {},
   "outputs": [
    {
     "name": "stdout",
     "output_type": "stream",
     "text": [
      "Results summary\n",
      "Results in dirsalida\\helloworld\n",
      "Showing 10 best trials\n",
      "Objective(name=\"val_loss\", direction=\"min\")\n",
      "\n",
      "Trial 0221 summary\n",
      "Hyperparameters:\n",
      "num_units: 32\n",
      "activation: tanh\n",
      "num_layers: 2\n",
      "units_0: 8\n",
      "dropout: True\n",
      "lr: 0.007\n",
      "units_1: 32\n",
      "Score: 1.209227442741394\n",
      "\n",
      "Trial 0215 summary\n",
      "Hyperparameters:\n",
      "num_units: 32\n",
      "activation: tanh\n",
      "num_layers: 2\n",
      "units_0: 8\n",
      "dropout: False\n",
      "lr: 0.010000000000000002\n",
      "units_1: 32\n",
      "Score: 1.2092351913452148\n",
      "\n",
      "Trial 0111 summary\n",
      "Hyperparameters:\n",
      "num_units: 8\n",
      "activation: tanh\n",
      "num_layers: 2\n",
      "units_0: 32\n",
      "dropout: True\n",
      "lr: 0.010000000000000002\n",
      "units_1: 32\n",
      "Score: 1.2092400789260864\n",
      "\n",
      "Trial 0235 summary\n",
      "Hyperparameters:\n",
      "num_units: 32\n",
      "activation: tanh\n",
      "num_layers: 2\n",
      "units_0: 32\n",
      "dropout: True\n",
      "lr: 0.004\n",
      "units_1: 32\n",
      "Score: 1.2092481851577759\n",
      "\n",
      "Trial 0219 summary\n",
      "Hyperparameters:\n",
      "num_units: 32\n",
      "activation: tanh\n",
      "num_layers: 2\n",
      "units_0: 8\n",
      "dropout: True\n",
      "lr: 0.004\n",
      "units_1: 32\n",
      "Score: 1.209267020225525\n",
      "\n",
      "Trial 0205 summary\n",
      "Hyperparameters:\n",
      "num_units: 32\n",
      "activation: tanh\n",
      "num_layers: 1\n",
      "units_0: 32\n",
      "dropout: True\n",
      "lr: 0.007\n",
      "units_1: 32\n",
      "Score: 1.209293246269226\n",
      "\n",
      "Trial 0107 summary\n",
      "Hyperparameters:\n",
      "num_units: 8\n",
      "activation: tanh\n",
      "num_layers: 2\n",
      "units_0: 32\n",
      "dropout: True\n",
      "lr: 0.004\n",
      "units_1: 32\n",
      "Score: 1.209313988685608\n",
      "\n",
      "Trial 0206 summary\n",
      "Hyperparameters:\n",
      "num_units: 32\n",
      "activation: tanh\n",
      "num_layers: 1\n",
      "units_0: 32\n",
      "dropout: True\n",
      "lr: 0.010000000000000002\n",
      "units_1: 8\n",
      "Score: 1.2093368768692017\n",
      "\n",
      "Trial 0229 summary\n",
      "Hyperparameters:\n",
      "num_units: 32\n",
      "activation: tanh\n",
      "num_layers: 2\n",
      "units_0: 32\n",
      "dropout: False\n",
      "lr: 0.007\n",
      "units_1: 32\n",
      "Score: 1.2093409299850464\n",
      "\n",
      "Trial 0095 summary\n",
      "Hyperparameters:\n",
      "num_units: 8\n",
      "activation: tanh\n",
      "num_layers: 2\n",
      "units_0: 8\n",
      "dropout: True\n",
      "lr: 0.010000000000000002\n",
      "units_1: 32\n",
      "Score: 1.2093756198883057\n"
     ]
    }
   ],
   "source": [
    "tuner_GridSearch_mlp.results_summary()"
   ]
  },
  {
   "cell_type": "markdown",
   "id": "1b93a6dc-2071-4fc8-8759-6888658c3526",
   "metadata": {},
   "source": [
    "### Modelo final\n",
    "Finalmente se entrenará el mejor modelo con los datos de entrenamiento y validación."
   ]
  },
  {
   "cell_type": "code",
   "execution_count": 125,
   "id": "fc4a4f42-21fe-4c62-bf1c-41910e93d614",
   "metadata": {},
   "outputs": [
    {
     "name": "stdout",
     "output_type": "stream",
     "text": [
      "Epoch 1/50\n",
      "\u001b[1m26/26\u001b[0m \u001b[32m━━━━━━━━━━━━━━━━━━━━\u001b[0m\u001b[37m\u001b[0m \u001b[1m1s\u001b[0m 761us/step - loss: 3051.2412 - mean_squared_error: 3051.2410 \n",
      "Epoch 2/50\n",
      "\u001b[1m26/26\u001b[0m \u001b[32m━━━━━━━━━━━━━━━━━━━━\u001b[0m\u001b[37m\u001b[0m \u001b[1m0s\u001b[0m 641us/step - loss: 2129.9417 - mean_squared_error: 2129.9417\n",
      "Epoch 3/50\n",
      "\u001b[1m26/26\u001b[0m \u001b[32m━━━━━━━━━━━━━━━━━━━━\u001b[0m\u001b[37m\u001b[0m \u001b[1m0s\u001b[0m 641us/step - loss: 1583.4940 - mean_squared_error: 1583.4940\n",
      "Epoch 4/50\n",
      "\u001b[1m26/26\u001b[0m \u001b[32m━━━━━━━━━━━━━━━━━━━━\u001b[0m\u001b[37m\u001b[0m \u001b[1m0s\u001b[0m 641us/step - loss: 1132.0178 - mean_squared_error: 1132.0178\n",
      "Epoch 5/50\n",
      "\u001b[1m26/26\u001b[0m \u001b[32m━━━━━━━━━━━━━━━━━━━━\u001b[0m\u001b[37m\u001b[0m \u001b[1m0s\u001b[0m 641us/step - loss: 827.3132 - mean_squared_error: 827.3132\n",
      "Epoch 6/50\n",
      "\u001b[1m26/26\u001b[0m \u001b[32m━━━━━━━━━━━━━━━━━━━━\u001b[0m\u001b[37m\u001b[0m \u001b[1m0s\u001b[0m 681us/step - loss: 552.3810 - mean_squared_error: 552.3810\n",
      "Epoch 7/50\n",
      "\u001b[1m26/26\u001b[0m \u001b[32m━━━━━━━━━━━━━━━━━━━━\u001b[0m\u001b[37m\u001b[0m \u001b[1m0s\u001b[0m 641us/step - loss: 377.1598 - mean_squared_error: 377.1598\n",
      "Epoch 8/50\n",
      "\u001b[1m26/26\u001b[0m \u001b[32m━━━━━━━━━━━━━━━━━━━━\u001b[0m\u001b[37m\u001b[0m \u001b[1m0s\u001b[0m 601us/step - loss: 302.1365 - mean_squared_error: 302.1365\n",
      "Epoch 9/50\n",
      "\u001b[1m26/26\u001b[0m \u001b[32m━━━━━━━━━━━━━━━━━━━━\u001b[0m\u001b[37m\u001b[0m \u001b[1m0s\u001b[0m 641us/step - loss: 178.8042 - mean_squared_error: 178.8042\n",
      "Epoch 10/50\n",
      "\u001b[1m26/26\u001b[0m \u001b[32m━━━━━━━━━━━━━━━━━━━━\u001b[0m\u001b[37m\u001b[0m \u001b[1m0s\u001b[0m 681us/step - loss: 157.2910 - mean_squared_error: 157.2910\n",
      "Epoch 11/50\n",
      "\u001b[1m26/26\u001b[0m \u001b[32m━━━━━━━━━━━━━━━━━━━━\u001b[0m\u001b[37m\u001b[0m \u001b[1m0s\u001b[0m 641us/step - loss: 103.8837 - mean_squared_error: 103.8837\n",
      "Epoch 12/50\n",
      "\u001b[1m26/26\u001b[0m \u001b[32m━━━━━━━━━━━━━━━━━━━━\u001b[0m\u001b[37m\u001b[0m \u001b[1m0s\u001b[0m 601us/step - loss: 66.7233 - mean_squared_error: 66.7233\n",
      "Epoch 13/50\n",
      "\u001b[1m26/26\u001b[0m \u001b[32m━━━━━━━━━━━━━━━━━━━━\u001b[0m\u001b[37m\u001b[0m \u001b[1m0s\u001b[0m 641us/step - loss: 66.8736 - mean_squared_error: 66.8736\n",
      "Epoch 14/50\n",
      "\u001b[1m26/26\u001b[0m \u001b[32m━━━━━━━━━━━━━━━━━━━━\u001b[0m\u001b[37m\u001b[0m \u001b[1m0s\u001b[0m 681us/step - loss: 53.4026 - mean_squared_error: 53.4026\n",
      "Epoch 15/50\n",
      "\u001b[1m26/26\u001b[0m \u001b[32m━━━━━━━━━━━━━━━━━━━━\u001b[0m\u001b[37m\u001b[0m \u001b[1m0s\u001b[0m 641us/step - loss: 39.6889 - mean_squared_error: 39.6889\n",
      "Epoch 16/50\n",
      "\u001b[1m26/26\u001b[0m \u001b[32m━━━━━━━━━━━━━━━━━━━━\u001b[0m\u001b[37m\u001b[0m \u001b[1m0s\u001b[0m 641us/step - loss: 46.2954 - mean_squared_error: 46.2954\n",
      "Epoch 17/50\n",
      "\u001b[1m26/26\u001b[0m \u001b[32m━━━━━━━━━━━━━━━━━━━━\u001b[0m\u001b[37m\u001b[0m \u001b[1m0s\u001b[0m 601us/step - loss: 44.7724 - mean_squared_error: 44.7724\n",
      "Epoch 18/50\n",
      "\u001b[1m26/26\u001b[0m \u001b[32m━━━━━━━━━━━━━━━━━━━━\u001b[0m\u001b[37m\u001b[0m \u001b[1m0s\u001b[0m 641us/step - loss: 40.8625 - mean_squared_error: 40.8625\n",
      "Epoch 19/50\n",
      "\u001b[1m26/26\u001b[0m \u001b[32m━━━━━━━━━━━━━━━━━━━━\u001b[0m\u001b[37m\u001b[0m \u001b[1m0s\u001b[0m 641us/step - loss: 39.4236 - mean_squared_error: 39.4236\n",
      "Epoch 20/50\n",
      "\u001b[1m26/26\u001b[0m \u001b[32m━━━━━━━━━━━━━━━━━━━━\u001b[0m\u001b[37m\u001b[0m \u001b[1m0s\u001b[0m 681us/step - loss: 40.4306 - mean_squared_error: 40.4306\n",
      "Epoch 21/50\n",
      "\u001b[1m26/26\u001b[0m \u001b[32m━━━━━━━━━━━━━━━━━━━━\u001b[0m\u001b[37m\u001b[0m \u001b[1m0s\u001b[0m 641us/step - loss: 49.7112 - mean_squared_error: 49.7112\n",
      "Epoch 22/50\n",
      "\u001b[1m26/26\u001b[0m \u001b[32m━━━━━━━━━━━━━━━━━━━━\u001b[0m\u001b[37m\u001b[0m \u001b[1m0s\u001b[0m 641us/step - loss: 43.6529 - mean_squared_error: 43.6529\n",
      "Epoch 23/50\n",
      "\u001b[1m26/26\u001b[0m \u001b[32m━━━━━━━━━━━━━━━━━━━━\u001b[0m\u001b[37m\u001b[0m \u001b[1m0s\u001b[0m 641us/step - loss: 47.2866 - mean_squared_error: 47.2866\n",
      "Epoch 24/50\n",
      "\u001b[1m26/26\u001b[0m \u001b[32m━━━━━━━━━━━━━━━━━━━━\u001b[0m\u001b[37m\u001b[0m \u001b[1m0s\u001b[0m 681us/step - loss: 39.6846 - mean_squared_error: 39.6846\n"
     ]
    },
    {
     "data": {
      "text/plain": [
       "<keras.src.callbacks.history.History at 0x24d62310b90>"
      ]
     },
     "execution_count": 125,
     "metadata": {},
     "output_type": "execute_result"
    }
   ],
   "source": [
    "callback=keras.callbacks.EarlyStopping(monitor=\"loss\",patience=5)\n",
    "best_hps_mlp = tuner_GridSearch_mlp.get_best_hyperparameters(2)\n",
    "model_mlp = build_model(best_hps_mlp[0])\n",
    "# Fit with the entire dataset.\n",
    "model_mlp.fit(X_train_full,y_train_full,batch_size = 10, epochs=50 ,callbacks=[callback])"
   ]
  },
  {
   "cell_type": "code",
   "execution_count": 126,
   "id": "3df0dd80-e0c0-4a28-8517-a9172b603e85",
   "metadata": {},
   "outputs": [
    {
     "data": {
      "text/plain": [
       "array([[-0.22904658,  0.01379639, -0.02883208, ...,  0.0747937 ,\n",
       "         0.3295087 , -0.09986164],\n",
       "       [-0.14541963,  0.06617332,  0.27732843, ..., -0.13073915,\n",
       "         0.2578851 ,  0.01531296],\n",
       "       [ 0.24999122,  0.25559807,  0.02212155, ...,  0.02754089,\n",
       "         0.21461834,  0.03761269],\n",
       "       ...,\n",
       "       [-0.09269563, -0.18810907,  0.00448477, ...,  0.03247535,\n",
       "         0.10156191,  0.10452747],\n",
       "       [ 0.05371294,  0.15842426, -0.01412168, ...,  0.14788043,\n",
       "         0.16639568,  0.22164685],\n",
       "       [ 0.28068116, -0.27267703,  0.07877564, ..., -0.20018508,\n",
       "         0.07752046, -0.22983453]], dtype=float32)"
      ]
     },
     "execution_count": 126,
     "metadata": {},
     "output_type": "execute_result"
    }
   ],
   "source": [
    "model_mlp.layers[0].get_weights()[0]"
   ]
  },
  {
   "cell_type": "code",
   "execution_count": 127,
   "id": "2e9651dd-844e-499f-86b8-bc5d84ea4dce",
   "metadata": {},
   "outputs": [
    {
     "name": "stdout",
     "output_type": "stream",
     "text": [
      "[ 0.05083509  0.          0.          0.         -0.02958174  0.04203159\n",
      "  0.          0.          0.          0.          0.          0.\n",
      "  0.          0.         -0.04184748  0.          0.          0.\n",
      "  0.          0.         -0.00753418  0.          0.00121335  0.\n",
      "  0.04520444  0.          0.05603614  0.          0.          0.\n",
      "  0.05203564 -0.01069565]\n"
     ]
    }
   ],
   "source": [
    "print(model_mlp.layers[0].bias.numpy())"
   ]
  },
  {
   "cell_type": "code",
   "execution_count": 128,
   "id": "600e3356-6415-45b8-bab1-c3b7503d3ec6",
   "metadata": {},
   "outputs": [
    {
     "data": {
      "text/plain": [
       "(12, 33)"
      ]
     },
     "execution_count": 128,
     "metadata": {},
     "output_type": "execute_result"
    }
   ],
   "source": [
    "X_test.shape"
   ]
  },
  {
   "cell_type": "code",
   "execution_count": 129,
   "id": "27537137-d280-43d8-aa1c-526be0bcaca7",
   "metadata": {},
   "outputs": [
    {
     "name": "stdout",
     "output_type": "stream",
     "text": [
      "\u001b[1m1/1\u001b[0m \u001b[32m━━━━━━━━━━━━━━━━━━━━\u001b[0m\u001b[37m\u001b[0m \u001b[1m0s\u001b[0m 34ms/step\n"
     ]
    }
   ],
   "source": [
    "prediction_test=model_mlp.predict( X_test, verbose=1)"
   ]
  },
  {
   "cell_type": "code",
   "execution_count": 130,
   "id": "db9838d0-752c-40af-8ea5-48ae4613a475",
   "metadata": {},
   "outputs": [],
   "source": [
    "y_test=y_test.reshape((y_test.shape[0], 1))"
   ]
  },
  {
   "cell_type": "code",
   "execution_count": 131,
   "id": "25ae0881-c28c-437f-b98b-72ad276e20bc",
   "metadata": {},
   "outputs": [
    {
     "name": "stdout",
     "output_type": "stream",
     "text": [
      "ECM: 1.5668602\n"
     ]
    }
   ],
   "source": [
    "errors_squared=keras.metrics.MeanSquaredError()\n",
    "errors_squared.update_state(y_test, prediction_test)\n",
    "print(\"ECM:\",errors_squared.result().numpy())"
   ]
  },
  {
   "cell_type": "code",
   "execution_count": 132,
   "id": "9bd394d7-98dd-4af9-a033-7474f07b969b",
   "metadata": {},
   "outputs": [
    {
     "data": {
      "text/plain": [
       "[<matplotlib.lines.Line2D at 0x24d624ece50>]"
      ]
     },
     "execution_count": 132,
     "metadata": {},
     "output_type": "execute_result"
    },
    {
     "data": {
      "text/plain": [
       "[<matplotlib.lines.Line2D at 0x24d62507c10>]"
      ]
     },
     "execution_count": 132,
     "metadata": {},
     "output_type": "execute_result"
    },
    {
     "data": {
      "text/plain": [
       "<matplotlib.legend.Legend at 0x24d636ca990>"
      ]
     },
     "execution_count": 132,
     "metadata": {},
     "output_type": "execute_result"
    },
    {
     "data": {
      "text/plain": [
       "Text(0, 0.5, 'Y y $\\\\hat{Y}$ en conjunto de prueba')"
      ]
     },
     "execution_count": 132,
     "metadata": {},
     "output_type": "execute_result"
    },
    {
     "data": {
      "image/png": "[encoded data removed]",
      "text/plain": [
       "<Figure size 640x480 with 1 Axes>"
      ]
     },
     "metadata": {},
     "output_type": "display_data"
    }
   ],
   "source": [
    "plt.plot(y_test)\n",
    "plt.plot(prediction_test)\n",
    "plt.legend(['Respuesta real','Predicción de la Respuesta'],loc=\"best\", fontsize=12)\n",
    "plt.ylabel('Y y $\\hat{Y}$ en conjunto de prueba', fontsize=14)"
   ]
  },
  {
   "cell_type": "code",
   "execution_count": 133,
   "id": "ae0c6117-3eec-44dc-9c27-139f49a46483",
   "metadata": {},
   "outputs": [
    {
     "data": {
      "text/plain": [
       "[<matplotlib.lines.Line2D at 0x24d62233e90>]"
      ]
     },
     "execution_count": 133,
     "metadata": {},
     "output_type": "execute_result"
    },
    {
     "data": {
      "text/plain": [
       "<matplotlib.legend.Legend at 0x24d6381a350>"
      ]
     },
     "execution_count": 133,
     "metadata": {},
     "output_type": "execute_result"
    },
    {
     "data": {
      "text/plain": [
       "Text(0, 0.5, '$\\\\hat{e}$ en conjunto de prueba')"
      ]
     },
     "execution_count": 133,
     "metadata": {},
     "output_type": "execute_result"
    },
    {
     "data": {
      "image/png": "[encoded data removed]",
      "text/plain": [
       "<Figure size 640x480 with 1 Axes>"
      ]
     },
     "metadata": {},
     "output_type": "display_data"
    }
   ],
   "source": [
    "#Gráfico de errores\n",
    "plt.plot(prediction_test-y_test)\n",
    "plt.legend(['Error de predicción'],loc=\"best\", fontsize=12)\n",
    "plt.ylabel('$\\hat{e}$ en conjunto de prueba', fontsize=14)"
   ]
  },
  {
   "cell_type": "code",
   "execution_count": 134,
   "id": "c9432645",
   "metadata": {},
   "outputs": [],
   "source": [
    "X = np.concatenate((X_train, X_val,X_test))\n",
    "y_test = y_test.ravel()  \n",
    "y = np.concatenate((y_train, y_val, y_test))"
   ]
  },
  {
   "cell_type": "code",
   "execution_count": 135,
   "id": "794f8527-3758-4ff7-aecd-8e3f0c68ed5c",
   "metadata": {},
   "outputs": [
    {
     "name": "stdout",
     "output_type": "stream",
     "text": [
      "(264, 33)\n",
      "(264,)\n"
     ]
    }
   ],
   "source": [
    "print(X.shape)\n",
    "print(y.shape)"
   ]
  },
  {
   "cell_type": "code",
   "execution_count": 136,
   "id": "66c1b64e-9956-4e66-a2d8-f4f956f33068",
   "metadata": {},
   "outputs": [
    {
     "name": "stdout",
     "output_type": "stream",
     "text": [
      "\u001b[1m9/9\u001b[0m \u001b[32m━━━━━━━━━━━━━━━━━━━━\u001b[0m\u001b[37m\u001b[0m \u001b[1m0s\u001b[0m 751us/step\n"
     ]
    }
   ],
   "source": [
    "predictions=model_mlp.predict(X, verbose=1)"
   ]
  },
  {
   "cell_type": "code",
   "execution_count": 137,
   "id": "27adfc28-2601-48c1-b5bc-1c87822de82b",
   "metadata": {},
   "outputs": [
    {
     "data": {
      "text/plain": [
       "array([-0.38282512,  0.12757488,  0.32857488, ..., -0.17943407,\n",
       "       -0.95133143, -1.38404148])"
      ]
     },
     "execution_count": 137,
     "metadata": {},
     "output_type": "execute_result"
    }
   ],
   "source": [
    "residuales=y-predictions\n",
    "residuales = residuales.ravel()\n",
    "residuales"
   ]
  },
  {
   "cell_type": "code",
   "execution_count": 37,
   "id": "704d1d83-3735-42ea-a83a-5cbddde3b0fe",
   "metadata": {},
   "outputs": [
    {
     "data": {
      "image/png": "[encoded data removed]",
      "text/plain": [
       "<Figure size 640x480 with 1 Axes>"
      ]
     },
     "execution_count": 37,
     "metadata": {},
     "output_type": "execute_result"
    },
    {
     "data": {
      "image/png": "[encoded data removed]",
      "text/plain": [
       "<Figure size 640x480 with 1 Axes>"
      ]
     },
     "metadata": {},
     "output_type": "display_data"
    }
   ],
   "source": [
    "plot_acf(residuales, lags=40)\n",
    "plt.show()"
   ]
  },
  {
   "cell_type": "markdown",
   "id": "3cd7b1c7-78ef-449c-8e08-8213146eb2ed",
   "metadata": {},
   "source": [
    "Aunque el ECM no es tan alto y se pusieron como variables regresoras los outliers, se ve que el modelo de redes no captura el comportamiento de la serie, además los residuales no parecen ser normales, sigue habiendo una correlación muy grande, por lo que este modelo no se usará."
   ]
  },
  {
   "cell_type": "code",
   "execution_count": null,
   "id": "60432e71-9049-4b7d-a322-122f7cc46467",
   "metadata": {},
   "outputs": [],
   "source": []
  }
 ],
 "metadata": {
  "kernelspec": {
   "display_name": "Python 3 (ipykernel)",
   "language": "python",
   "name": "python3"
  },
  "language_info": {
   "codemirror_mode": {
    "name": "ipython",
    "version": 3
   },
   "file_extension": ".py",
   "mimetype": "text/x-python",
   "name": "python",
   "nbconvert_exporter": "python",
   "pygments_lexer": "ipython3",
   "version": "3.11.9"
  }
 },
 "nbformat": 4,
 "nbformat_minor": 5
}
